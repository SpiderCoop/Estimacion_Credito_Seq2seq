{
 "cells": [
  {
   "cell_type": "markdown",
   "metadata": {},
   "source": [
    "<h1>Estimación del crédito bancario al sector privado</h1>\n",
    "\n",
    "En este documento se hace la estimacion mensual del crédito bancario al sector privado de acuerdo con el documento de análisis que se encuentra en la misma carpeta. Este análisis utiliza los modelos de series de tiempo, en particular el modelo SARIMAX para capturar esta relacion.\n",
    "\n",
    "Las series de tiempo se obtienen por medio de la API Banco de México con el propósito de que se puedan obtener y ajustar la estimación rápidamente ante la actualización de estas series."
   ]
  },
  {
   "cell_type": "code",
   "execution_count": 2,
   "metadata": {},
   "outputs": [
    {
     "name": "stdout",
     "output_type": "stream",
     "text": [
      "Nuevo directorio: C:\\ABM\\Analisis\\Credito_PIB\n"
     ]
    }
   ],
   "source": [
    "from pathlib import Path\n",
    "import os\n",
    "\n",
    "os.chdir('C:/ABM/Analisis/Credito_PIB/arquitectura_modelos')\n",
    "\n",
    "# Buscar el primer directorio padre que contenga un archivo específico\n",
    "def find_project_root(filename=\"requirements.txt\"):\n",
    "    current = Path().resolve()\n",
    "    for parent in [current] + list(current.parents):\n",
    "        if (parent / filename).exists():\n",
    "            return parent\n",
    "    raise FileNotFoundError(f\"No se encontró {filename} en ningún directorio padre.\")\n",
    "\n",
    "# Establecer como root\n",
    "os.chdir(find_project_root())\n",
    "print(\"Nuevo directorio:\", os.getcwd())"
   ]
  },
  {
   "cell_type": "code",
   "execution_count": null,
   "metadata": {},
   "outputs": [],
   "source": [
    "# Importar librerias \n",
    "\n",
    "import os\n",
    "import pandas as pd\n",
    "import numpy as np\n",
    "\n",
    "import random\n",
    "\n",
    "from datetime import datetime\n",
    "from dateutil.relativedelta import relativedelta\n",
    "from pandas.tseries.frequencies import to_offset\n",
    "\n",
    "from dotenv import load_dotenv\n",
    "\n",
    "from api_caller.banxico import Banxico_SIE\n",
    "\n",
    "import matplotlib.pyplot as plt\n",
    "import seaborn as sns\n",
    "\n",
    "from sklearn.preprocessing import StandardScaler\n",
    "\n",
    "# Pytorch para redes neuroanles\n",
    "import torch\n",
    "import torch.nn as nn\n",
    "import torch.optim as optim\n",
    "from torch.utils.data import Dataset, DataLoader\n",
    "import pytorch_lightning as pl\n",
    "\n",
    "# Importamos modulos propios\n",
    "from procesamiento_datos import descarga_series_principales\n",
    "from arquitectura_modelos import MultivariateTimeSeriesDataset, Seq2seq_MultiHorizon_Quantile_Recurrent_Forecaster\n",
    "from arquitectura_modelos.set_seed import set_seed\n",
    "\n",
    "\n",
    "# Evitamos mensajes de advertencia\n",
    "import warnings\n",
    "warnings.filterwarnings(\"ignore\")"
   ]
  },
  {
   "cell_type": "markdown",
   "metadata": {},
   "source": [
    "# Lectura de series"
   ]
  },
  {
   "cell_type": "code",
   "execution_count": 4,
   "metadata": {},
   "outputs": [],
   "source": [
    "# Descargamos las series principales\n",
    "series = descarga_series_principales({'SL11453':'Rem_manufactura', 'SL11426':'Rem_comercio'})\n",
    "series.index.freq = 'MS'  # Establecemos la frecuencia mensual\n"
   ]
  },
  {
   "cell_type": "markdown",
   "metadata": {},
   "source": [
    "# Procesamiento"
   ]
  },
  {
   "cell_type": "code",
   "execution_count": 5,
   "metadata": {},
   "outputs": [],
   "source": [
    "# Quitamos lo nan del inicio del dataframe\n",
    "series = series[series.dropna().index.min():]"
   ]
  },
  {
   "cell_type": "code",
   "execution_count": 6,
   "metadata": {},
   "outputs": [
    {
     "name": "stdout",
     "output_type": "stream",
     "text": [
      "            Rem_comercio  Rem_manufactura\n",
      "2008-01-01       55.4631          58.2025\n",
      "2008-02-01       54.9351          58.0487\n",
      "2008-03-01       56.6896          60.0496\n",
      "2008-04-01       56.1591          63.7500\n",
      "2008-05-01       65.8012          72.5806\n",
      "...                  ...              ...\n",
      "2024-12-01      210.5768         196.0533\n",
      "2025-01-01      178.5238         155.3590\n",
      "2025-02-01      175.5329         153.7137\n",
      "2025-03-01      178.9766         159.6086\n",
      "2025-04-01      181.4176         166.1227\n",
      "\n",
      "[208 rows x 2 columns]\n"
     ]
    }
   ],
   "source": [
    "print(series)"
   ]
  },
  {
   "cell_type": "markdown",
   "metadata": {},
   "source": [
    "# Preparacion para entrenamiento"
   ]
  },
  {
   "cell_type": "code",
   "execution_count": 7,
   "metadata": {},
   "outputs": [],
   "source": [
    "# Separamos las series objetivo y exógenas\n",
    "series_objetivo = ['Rem_comercio', 'Rem_manufactura']\n",
    "series_exogenas = []\n",
    "series_input = series_objetivo + series_exogenas\n",
    "\n",
    "# Definimos variables de cambio de tendencia a partir de fecha designada (shock)\n",
    "shock_dict = None"
   ]
  },
  {
   "cell_type": "code",
   "execution_count": 8,
   "metadata": {},
   "outputs": [
    {
     "name": "stdout",
     "output_type": "stream",
     "text": [
      "Datos de entrenamiento hasta el: 2023-04\n",
      "Datos de validacion hasta el: 2024-10\n",
      "Datos de prueba hasta el: 2025-04\n"
     ]
    }
   ],
   "source": [
    "# Definimos el periodo de entrenamiento\n",
    "rezago_anos = 2\n",
    "\n",
    "last_date = series.dropna().index.max()\n",
    "train_date = last_date + relativedelta(months=-12*rezago_anos)\n",
    "validation_date = last_date + relativedelta(months=-12*(rezago_anos-1)//2)\n",
    "\n",
    "# Separamos los datos de entrenamiento y validacion para el modelo de Seq2seq\n",
    "df = series.copy()\n",
    "df_train = df.loc[:train_date, series_input]\n",
    "df_val = df.loc[(validation_date + relativedelta(months=-12*8)):validation_date, series_input]\n",
    "df_test = df.loc[:last_date, series_input]\n",
    "\n",
    "print(f\"Datos de entrenamiento hasta el: {train_date.strftime('%Y-%m')}\")\n",
    "print(f\"Datos de validacion hasta el: {validation_date.strftime('%Y-%m')}\")\n",
    "print(f\"Datos de prueba hasta el: {last_date.strftime('%Y-%m')}\")\n"
   ]
  },
  {
   "cell_type": "code",
   "execution_count": 9,
   "metadata": {},
   "outputs": [
    {
     "name": "stdout",
     "output_type": "stream",
     "text": [
      "            Rem_comercio  Rem_manufactura\n",
      "2008-01-01       55.4631          58.2025\n",
      "2008-02-01       54.9351          58.0487\n",
      "2008-03-01       56.6896          60.0496\n",
      "2008-04-01       56.1591          63.7500\n",
      "2008-05-01       65.8012          72.5806\n",
      "...                  ...              ...\n",
      "2022-12-01      169.9357         167.5151\n",
      "2023-01-01      142.6320         127.5046\n",
      "2023-02-01      143.0225         128.5986\n",
      "2023-03-01      148.8250         140.0832\n",
      "2023-04-01      149.3040         136.7262\n",
      "\n",
      "[184 rows x 2 columns]\n"
     ]
    }
   ],
   "source": [
    "print(df_train)"
   ]
  },
  {
   "cell_type": "code",
   "execution_count": 10,
   "metadata": {},
   "outputs": [],
   "source": [
    "# Funcion para definir semilla\n",
    "def set_seed(seed: int = 21):\n",
    "    torch.manual_seed(seed)\n",
    "    np.random.seed(seed)\n",
    "    random.seed(seed)\n",
    "    if torch.cuda.is_available():\n",
    "        torch.cuda.manual_seed_all(seed)\n",
    "        torch.backends.cudnn.deterministic = True\n",
    "        torch.backends.cudnn.benchmark = False\n"
   ]
  },
  {
   "cell_type": "markdown",
   "metadata": {},
   "source": [
    "# Parametros"
   ]
  },
  {
   "cell_type": "code",
   "execution_count": 11,
   "metadata": {},
   "outputs": [],
   "source": [
    "# Parametros\n",
    "hist_len = 12*4\n",
    "horizon = 12*2\n",
    "batch_size = 10\n",
    "\n",
    "lag = hist_len\n",
    "\n",
    "len_shock_dict = len(shock_dict) if shock_dict is not None else 0\n",
    "len_lag = 1 if lag else 0\n",
    "\n",
    "input_size = len(series_exogenas) + 1 + len_shock_dict + 4 + len_lag # Exogenas + time features + lag\n",
    "output_size = 1\n",
    "\n",
    "hidden_size = 128\n",
    "num_layers = 2\n",
    "ca_size = hidden_size\n",
    "ct_size = hidden_size // 2\n",
    "min_hist_len = 3\n",
    "\n",
    "quantiles = [0.05, 0.5, 0.95]\n",
    "learning_rate = 1e-3\n",
    "\n",
    "num_embeddings = len(series_objetivo)\n",
    "embedding_dim = 4*num_embeddings\n",
    "\n",
    "set_seed()"
   ]
  },
  {
   "cell_type": "code",
   "execution_count": 12,
   "metadata": {},
   "outputs": [],
   "source": [
    "# Dataset de entrenamiento\n",
    "train_dataset = MultivariateTimeSeriesDataset(\n",
    "    df = df_train,\n",
    "    target_cols = series_objetivo,\n",
    "    exog_cols = series_exogenas,\n",
    "    hist_len = hist_len,\n",
    "    horizon = horizon,\n",
    "    shock_dict = shock_dict,\n",
    "    lag = lag,\n",
    ")\n",
    "\n",
    "# DataLoader en entrenamiento\n",
    "train_dataloader = DataLoader(train_dataset, batch_size=batch_size, shuffle=True)\n",
    "\n",
    "# Dataset de validación\n",
    "val_dataset = MultivariateTimeSeriesDataset(\n",
    "    df = df_val,\n",
    "    target_cols = series_objetivo,\n",
    "    exog_cols = series_exogenas,\n",
    "    hist_len = hist_len,\n",
    "    horizon = horizon,\n",
    "    shock_dict = shock_dict,\n",
    "    mean = train_dataset.mean,\n",
    "    std = train_dataset.std,\n",
    "    lag = train_dataset.lag,\n",
    ")\n",
    "\n",
    "# DataLoader en validación\n",
    "val_dataloader = DataLoader(val_dataset, batch_size=batch_size, shuffle=False)\n"
   ]
  },
  {
   "cell_type": "code",
   "execution_count": 13,
   "metadata": {},
   "outputs": [
    {
     "name": "stdout",
     "output_type": "stream",
     "text": [
      "\n",
      "Shapes of the training batch:\n",
      "x_hist: torch.Size([10, 48, 5])\n",
      "x_fut: torch.Size([10, 24, 5])\n",
      "y_hist: torch.Size([10, 48, 1])\n",
      "y_fut: torch.Size([10, 24, 1])\n",
      "series_idx: tensor([1, 0, 0, 1, 1, 1, 0, 0, 0, 1])\n"
     ]
    }
   ],
   "source": [
    "# Verificacion del shape de val_dataloader\n",
    "for x_hist, x_fut, y_hist, y_fut, series_idx in iter(train_dataloader):\n",
    "    print('\\nShapes of the training batch:')\n",
    "    print(f'x_hist: {x_hist.shape}')\n",
    "    print(f'x_fut: {x_fut.shape}')\n",
    "    print(f'y_hist: {y_hist.shape}')\n",
    "    print(f'y_fut: {y_fut.shape}')\n",
    "    print(f'series_idx: {series_idx}')\n",
    "    break\n",
    "    "
   ]
  },
  {
   "cell_type": "markdown",
   "metadata": {},
   "source": [
    "# Entrenamiento"
   ]
  },
  {
   "cell_type": "code",
   "execution_count": 14,
   "metadata": {},
   "outputs": [],
   "source": [
    "# Modelo\n",
    "model = Seq2seq_MultiHorizon_Quantile_Recurrent_Forecaster(hist_len = hist_len,\n",
    "                horizon = horizon,\n",
    "                input_size = input_size,\n",
    "                output_size = output_size,\n",
    "                hidden_size = hidden_size,\n",
    "                num_layers = num_layers,\n",
    "                ct_size = ct_size,\n",
    "                ca_size = ca_size,\n",
    "                min_hist_len = min_hist_len,\n",
    "                quantiles = quantiles,\n",
    "                learning_rate = learning_rate,\n",
    "                num_embeddings = num_embeddings,\n",
    "                embedding_dim = embedding_dim)\n",
    "\n",
    "model.target_cols = series_objetivo\n",
    "model.exog_cols = series_exogenas\n",
    "model.mean = train_dataset.mean\n",
    "model.std = train_dataset.std\n",
    "model.shock_dict = train_dataset.shock_dict\n",
    "model.series_id_map = train_dataset.series_id_map\n",
    "model.lag = train_dataset.lag\n"
   ]
  },
  {
   "cell_type": "code",
   "execution_count": 15,
   "metadata": {},
   "outputs": [
    {
     "name": "stdout",
     "output_type": "stream",
     "text": [
      "Shape de y_hat: torch.Size([10, 24, 1, 3])\n",
      "Hay NaN en y_hat: False\n"
     ]
    }
   ],
   "source": [
    "# Verificacion de que el modelo funciona\n",
    "batch = next(iter(train_dataloader))\n",
    "\n",
    "x_hist, x_fut, y_hist, y_fut, series_idx = batch\n",
    "y_hat, _, _ = model.forward(x_hist, x_fut, y_hist, series_idx)\n",
    "\n",
    "# Vemos si hay nan\n",
    "print(\"Shape de y_hat:\", y_hat.shape)\n",
    "print(\"Hay NaN en y_hat:\", torch.isnan(y_hat).any().item())"
   ]
  },
  {
   "cell_type": "code",
   "execution_count": 16,
   "metadata": {},
   "outputs": [
    {
     "name": "stderr",
     "output_type": "stream",
     "text": [
      "Using default `ModelCheckpoint`. Consider installing `litmodels` package to enable `LitModelCheckpoint` for automatic upload to the Lightning model registry.\n",
      "GPU available: False, used: False\n",
      "TPU available: False, using: 0 TPU cores\n",
      "HPU available: False, using: 0 HPUs\n",
      "\n",
      "  | Name             | Type       | Params | Mode \n",
      "--------------------------------------------------------\n",
      "0 | series_embedding | Embedding  | 16     | train\n",
      "1 | encoder          | LSTM       | 205 K  | train\n",
      "2 | global_mlp       | Sequential | 422 K  | train\n",
      "3 | local_mlp        | Sequential | 41.8 K | train\n",
      "--------------------------------------------------------\n",
      "670 K     Trainable params\n",
      "0         Non-trainable params\n",
      "670 K     Total params\n",
      "2.681     Total estimated model params size (MB)\n",
      "10        Modules in train mode\n",
      "0         Modules in eval mode\n"
     ]
    },
    {
     "name": "stdout",
     "output_type": "stream",
     "text": [
      "Epoch 19: 100%|██████████| 9/9 [00:03<00:00,  2.92it/s, v_num=363, train_loss_step=0.0143, val_QL=0.192, train_loss_epoch=0.0114] "
     ]
    },
    {
     "name": "stderr",
     "output_type": "stream",
     "text": [
      "`Trainer.fit` stopped: `max_epochs=20` reached.\n"
     ]
    },
    {
     "name": "stdout",
     "output_type": "stream",
     "text": [
      "Epoch 19: 100%|██████████| 9/9 [00:03<00:00,  2.87it/s, v_num=363, train_loss_step=0.0143, val_QL=0.192, train_loss_epoch=0.0114]\n"
     ]
    }
   ],
   "source": [
    "# Entrenamiento\n",
    "epochs = 20\n",
    "\n",
    "trainer = pl.Trainer(max_epochs=epochs)\n",
    "trainer.fit(model, train_dataloader, val_dataloader)"
   ]
  },
  {
   "cell_type": "markdown",
   "metadata": {},
   "source": [
    "# Validacion"
   ]
  },
  {
   "cell_type": "code",
   "execution_count": 17,
   "metadata": {},
   "outputs": [
    {
     "name": "stdout",
     "output_type": "stream",
     "text": [
      "Predicción para Rem_comercio desde 2024-04-01 00:00:00 hasta 2026-03-01 00:00:00\n",
      "Ventana de historia: 2020-04-01 00:00:00 - 2024-03-01 00:00:00\n"
     ]
    }
   ],
   "source": [
    "# Predicciones\n",
    "initial_pred_date = pd.to_datetime(\"2024-04-01\")\n",
    "#initial_pred_date = validation_date + relativedelta(months=1)  # Ajustamos la fecha de inicio de predicción\n",
    "end_year_pred = datetime(initial_pred_date.year, 12, 1)\n",
    "end_year_1_pred = datetime(initial_pred_date.year + 1, 12, 1)\n",
    "\n",
    "target_col = series_objetivo[0]\n",
    "\n",
    "predicciones = model.predict(\n",
    "    df = df,\n",
    "    target_col = target_col,\n",
    "    initial_pred_date = initial_pred_date\n",
    ")\n",
    "\n",
    "# Concatenar los dataframes\n",
    "df_combined = pd.concat([df[series_input], predicciones], axis=1)\n",
    "\n",
    "# Acotar el DataFrame a las fechas de interés\n",
    "df_combined = df_combined.loc[initial_pred_date + relativedelta(months=-12*4):(initial_pred_date + relativedelta(months=30))]"
   ]
  },
  {
   "cell_type": "code",
   "execution_count": 18,
   "metadata": {},
   "outputs": [
    {
     "data": {
      "image/png": "[encoded data removed]",
      "text/plain": [
       "<Figure size 1500x600 with 1 Axes>"
      ]
     },
     "metadata": {},
     "output_type": "display_data"
    }
   ],
   "source": [
    "# Iterar sobre cada variable objetivo para crear una gráfica\n",
    "fig, ax1 = plt.subplots(figsize=(15, 6))\n",
    "\n",
    "# Graficar la serie real\n",
    "plt.plot(df_combined.index, df_combined[target_col], label='Real', marker='o', linestyle='-', color='blue')\n",
    "#plt.plot(df_combined.index, df_combined['pron_pib'], label='PIB', linestyle='-', color='gray')\n",
    "\n",
    "if end_year_pred in df_combined.index:\n",
    "    valor = df_combined.at[end_year_pred, target_col]\n",
    "    ax1.annotate(f'{valor:.2f}', xy=(end_year_pred, valor), xytext=(0, 10),\n",
    "                    textcoords='offset points', ha='center', fontsize=9,\n",
    "                    bbox=dict(boxstyle='round,pad=0.2', fc='green', alpha=0.3))\n",
    "    \n",
    "if end_year_1_pred in df_combined.index:\n",
    "    valor = df_combined.at[end_year_1_pred, target_col]\n",
    "    ax1.annotate(f'{valor:.2f}', xy=(end_year_1_pred, valor), xytext=(0, 10),\n",
    "                    textcoords='offset points', ha='center', fontsize=9,\n",
    "                    bbox=dict(boxstyle='round,pad=0.2', fc='green', alpha=0.3))\n",
    "\n",
    "\n",
    "for quantile, color in zip(quantiles[::-1], ['orange', 'green', 'red']):\n",
    "    col_name = f'{target_col}_{int(quantile*100)}'\n",
    "    if col_name in df_combined.columns:\n",
    "        plt.plot(df_combined.index, df_combined[col_name], label=f'Cuantil {quantile}', marker='s', linestyle='--', color=color)\n",
    "        \n",
    "        if col_name == f'{target_col}_50':\n",
    "            if end_year_pred in df_combined.index:\n",
    "                valor = df_combined.at[end_year_pred, col_name]\n",
    "                ax1.annotate(f'{valor:.2f}', xy=(end_year_pred, valor), xytext=(0, 10),\n",
    "                            textcoords='offset points', ha='center', fontsize=9,\n",
    "                            bbox=dict(boxstyle='round,pad=0.2', fc='yellow', alpha=0.3))\n",
    "                \n",
    "            if end_year_1_pred in df_combined.index:\n",
    "                valor = df_combined.at[end_year_1_pred, col_name]\n",
    "                ax1.annotate(f'{valor:.2f}', xy=(end_year_1_pred, valor), xytext=(0, 10),\n",
    "                            textcoords='offset points', ha='center', fontsize=9,\n",
    "                            bbox=dict(boxstyle='round,pad=0.2', fc='yellow', alpha=0.3))\n",
    "\n",
    "plt.xlabel('Fecha')\n",
    "\n",
    "plt.title(f'Predicción Cuantil vs Real para {target_col}')\n",
    "plt.legend()\n",
    "plt.show()\n"
   ]
  },
  {
   "cell_type": "markdown",
   "metadata": {},
   "source": [
    "# Guardar Modelo"
   ]
  },
  {
   "cell_type": "code",
   "execution_count": 19,
   "metadata": {},
   "outputs": [
    {
     "name": "stdout",
     "output_type": "stream",
     "text": [
      "Modelo y atributos guardados en modelos\\seq2seq_Rem_nom.pth\n"
     ]
    }
   ],
   "source": [
    "# Guardar el modelo y sus atributos\n",
    "model_path = \"modelos\\seq2seq_Rem_nom.pth\"\n",
    "torch.save({\n",
    "    'model_state_dict': model.state_dict(),\n",
    "    'horizon': model.horizon,\n",
    "    'hist_len': model.hist_len,\n",
    "    'input_size': model.input_size,\n",
    "    'output_size': model.output_size,\n",
    "    'hidden_size': model.hidden_size,\n",
    "    'num_layers': model.num_layers,\n",
    "    'ct_size': model.ct_size,\n",
    "    'ca_size': model.ca_size,\n",
    "    'min_hist_len': model.min_hist_len,\n",
    "    'quantiles': model.quantiles,\n",
    "    'learning_rate': model.learning_rate,\n",
    "    'num_embeddings': model.num_embeddings,\n",
    "    'embedding_dim': model.embedding_dim,\n",
    "    'target_cols': model.target_cols,\n",
    "    'exog_cols': model.exog_cols,\n",
    "    'mean': model.mean,\n",
    "    'std': model.std,\n",
    "    'shock_dict': model.shock_dict,\n",
    "    'series_id_map': model.series_id_map,\n",
    "}, model_path)\n",
    "\n",
    "print(f\"Modelo y atributos guardados en {model_path}\")"
   ]
  }
 ],
 "metadata": {
  "kernelspec": {
   "display_name": "Python 3",
   "language": "python",
   "name": "python3"
  },
  "language_info": {
   "codemirror_mode": {
    "name": "ipython",
    "version": 3
   },
   "file_extension": ".py",
   "mimetype": "text/x-python",
   "name": "python",
   "nbconvert_exporter": "python",
   "pygments_lexer": "ipython3",
   "version": "3.12.2"
  }
 },
 "nbformat": 4,
 "nbformat_minor": 2
}
