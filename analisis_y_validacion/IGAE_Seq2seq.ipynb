{
 "cells": [
  {
   "cell_type": "markdown",
   "metadata": {},
   "source": [
    "<h1>Analisis y modelado del IGAE</h1>\n",
    "\n",
    "Utilizamos este docuemnto para hacer el analisis y modelado de la serie de tiempo del IGAE como auxiliar para la estimacion del credito al sector privado. Para el modelado utilizamos un enfoque de aprendizaje profundo tipo encoder-decoder, usando LSTM como encoder y MLP's como decoders, la arquitectura del modelo se encuentra en la carpeta arquitectura_modelos\n",
    "\n",
    "Las series de tiempo se obtienen por medio de la API Banco de México con el propósito de que se puedan obtener y ajustar la estimación rápidamente ante la actualización de estas series."
   ]
  },
  {
   "cell_type": "code",
   "execution_count": 1,
   "metadata": {},
   "outputs": [
    {
     "name": "stdout",
     "output_type": "stream",
     "text": [
      "Nuevo directorio: C:\\ABM\\Analisis\\Estimacion_Credito_Seq2seq\n"
     ]
    }
   ],
   "source": [
    "from pathlib import Path\n",
    "import os\n",
    "\n",
    "os.chdir('C:/ABM/Analisis/Estimacion_Credito_Seq2seq')\n",
    "\n",
    "# Buscar el primer directorio padre que contenga un archivo específico\n",
    "def find_project_root(filename=\"requirements.txt\"):\n",
    "    current = Path().resolve()\n",
    "    for parent in [current] + list(current.parents):\n",
    "        if (parent / filename).exists():\n",
    "            return parent\n",
    "    raise FileNotFoundError(f\"No se encontró {filename} en ningún directorio padre.\")\n",
    "\n",
    "# Establecer como root\n",
    "os.chdir(find_project_root())\n",
    "print(\"Nuevo directorio:\", os.getcwd())"
   ]
  },
  {
   "cell_type": "code",
   "execution_count": null,
   "metadata": {},
   "outputs": [],
   "source": [
    "# Importar librerias \n",
    "\n",
    "import numpy as np\n",
    "import pandas as pd\n",
    "\n",
    "from datetime import datetime\n",
    "from dateutil.relativedelta import relativedelta\n",
    "\n",
    "import matplotlib.pyplot as plt\n",
    "\n",
    "from dotenv import load_dotenv\n",
    "\n",
    "# Pytorch para redes neuroanles\n",
    "import torch\n",
    "from torch.utils.data import DataLoader\n",
    "import pytorch_lightning as pl\n",
    "\n",
    "# Importamos modulos propios\n",
    "from api_caller.banxico import Banxico_SIE\n",
    "from api_caller.inegi import INEGI_BIE\n",
    "from procesamiento_datos import procesamiento_pron_pib\n",
    "from arquitectura_modelos import MultivariateTimeSeriesDataset, Seq2seq_MultiHorizon_Quantile_Recurrent_Forecaster\n",
    "from arquitectura_modelos.set_seed import set_seed\n",
    "\n",
    "\n",
    "# Evitamos mensajes de advertencia\n",
    "import warnings\n",
    "warnings.filterwarnings(\"ignore\")"
   ]
  },
  {
   "cell_type": "code",
   "execution_count": 3,
   "metadata": {},
   "outputs": [],
   "source": [
    "# Carga variables de un archivo .env (para almacenar el token de la API de Banxico)\n",
    "load_dotenv()\n",
    "\n",
    "# Token\n",
    "BANXICO_TOKEN = os.environ.get(\"Banxico_Token\")\n",
    "INEGI_TOKEN = os.environ.get(\"INEGI_Token\") \n",
    "\n",
    "banxico_api = Banxico_SIE(BANXICO_TOKEN)\n",
    "inegi_api = INEGI_BIE(INEGI_TOKEN)"
   ]
  },
  {
   "cell_type": "markdown",
   "metadata": {},
   "source": [
    "# Lectura de series"
   ]
  },
  {
   "cell_type": "code",
   "execution_count": 4,
   "metadata": {},
   "outputs": [],
   "source": [
    "# Descarga de series de banxico\n",
    "fecha_inicio = '1994-03-01'\n",
    "\n",
    "series_dict = {'SR17622':'PIB', 'SR17693':'IGAE'}\n",
    "\n",
    "# Series\n",
    "series_banxico = banxico_api.get_data(list(series_dict.keys()), fecha_inicio=fecha_inicio)\n",
    "\n",
    "# Se ordenan las columnas, se verifica que los datos son numericos y se cambia el nombre de las series\n",
    "series_banxico = series_banxico.sort_index(axis=1)\n",
    "series_banxico = series_banxico.apply(pd.to_numeric, errors='coerce')\n",
    "series_banxico = series_banxico.rename(columns=series_dict)\n",
    "\n",
    "# Calculamos la media mensual de la serie en caso de tener series con mayor desagregacion\n",
    "series_banxico = series_banxico.resample('MS').mean()"
   ]
  },
  {
   "cell_type": "markdown",
   "metadata": {},
   "source": [
    "# Procesamiento"
   ]
  },
  {
   "cell_type": "code",
   "execution_count": 5,
   "metadata": {},
   "outputs": [],
   "source": [
    "# Quitamos lo nan del inicio del dataframe\n",
    "series = series_banxico[series_banxico.dropna().index.min():]"
   ]
  },
  {
   "cell_type": "code",
   "execution_count": 6,
   "metadata": {},
   "outputs": [],
   "source": [
    "# Calculamos la variacion anual de las series de interes\n",
    "series['IGAE_var'] = np.log(series['IGAE']).diff(12)*100\n",
    "series['PIB_var'] = np.log(series['PIB']).diff(12)*100"
   ]
  },
  {
   "cell_type": "code",
   "execution_count": 7,
   "metadata": {},
   "outputs": [
    {
     "name": "stdout",
     "output_type": "stream",
     "text": [
      "                   PIB      IGAE  IGAE_var   PIB_var\n",
      "2025-01-01         NaN  104.1302  0.181957       NaN\n",
      "2025-02-01         NaN  105.2286  0.587590       NaN\n",
      "2025-03-01  25444862.6  105.0180 -0.179617  0.567518\n",
      "2025-04-01         NaN  105.4677  1.175390       NaN\n",
      "2025-05-01         NaN  105.4816  0.441238       NaN\n"
     ]
    }
   ],
   "source": [
    "print(series.tail())"
   ]
  },
  {
   "cell_type": "markdown",
   "metadata": {},
   "source": [
    "# Preparacion para entrenamiento"
   ]
  },
  {
   "cell_type": "code",
   "execution_count": 8,
   "metadata": {},
   "outputs": [],
   "source": [
    "# Separamos las series objetivo y exógenas\n",
    "series_objetivo = ['IGAE_var']\n",
    "series_exogenas = ['PIB_var']\n",
    "series_input = series_objetivo + series_exogenas"
   ]
  },
  {
   "cell_type": "code",
   "execution_count": 9,
   "metadata": {},
   "outputs": [
    {
     "name": "stdout",
     "output_type": "stream",
     "text": [
      "Datos de entrenamiento desde 1995-06\n",
      "Datos de entrenamiento hasta el: 2022-03\n",
      "Datos de validacion hasta el: 2024-03\n",
      "Datos de prueba hasta el: 2025-03\n"
     ]
    }
   ],
   "source": [
    "# Dataframe con las series de interes para introducirlas al modelo\n",
    "df = series.copy().loc[series[series_exogenas].dropna().index, series_input]\n",
    "df = df[df.dropna().index.min():]\n",
    "\n",
    "# Definimos el periodo de entrenamiento y validacion\n",
    "rezago_anos = 3\n",
    "\n",
    "last_date = df[series_objetivo].dropna().index.max()\n",
    "train_date = last_date + relativedelta(months=-12*rezago_anos)\n",
    "validation_date = last_date + relativedelta(months=-12*(rezago_anos-1)//2)\n",
    "\n",
    "# Separamos los datos de entrenamiento y validacion para el modelo de Seq2seq\n",
    "df_train = df.loc[:train_date, :]\n",
    "df_val = df.loc[:validation_date, :]\n",
    "df_test = df.loc[:last_date, :]\n",
    "\n",
    "print(f'Datos de entrenamiento desde {df.index.min().strftime('%Y-%m')}')\n",
    "print(f\"Datos de entrenamiento hasta el: {train_date.strftime('%Y-%m')}\")\n",
    "print(f\"Datos de validacion hasta el: {validation_date.strftime('%Y-%m')}\")\n",
    "print(f\"Datos de prueba hasta el: {last_date.strftime('%Y-%m')}\")"
   ]
  },
  {
   "cell_type": "markdown",
   "metadata": {},
   "source": [
    "# Parametros"
   ]
  },
  {
   "cell_type": "code",
   "execution_count": 10,
   "metadata": {},
   "outputs": [],
   "source": [
    "# Parametros de historia, horizonte de pronostico y batch size\n",
    "hist_len = 4*4\n",
    "horizon = 4*2\n",
    "batch_size = 10\n",
    "\n",
    "# Parametro para agregar un lag sobre la propia variable objetivo con intencion de capturar mejor la tendencia y estrutura de largo plazo\n",
    "lag = hist_len\n",
    "\n",
    "# Definimos variables de cambio de tendencia a partir de fecha designada (shock)\n",
    "shock_dict = None\n",
    "\n",
    "# Auxiliares para calculo de variables de entrada\n",
    "len_shock_dict = len(shock_dict) if shock_dict is not None else 0\n",
    "len_lag = 1 if lag>0 else 0\n",
    "\n",
    "# Parametros de variables de entrada y salida\n",
    "input_size = len(series_exogenas) + 5 + len_shock_dict + len_lag # Exogenas + objetivo + shocks + time features + lag\n",
    "output_size = 1\n",
    "\n",
    "# Parametros de tamaño de estado oculto y capas para el encoder LSTM\n",
    "hidden_size = 128\n",
    "num_layers = 2\n",
    "\n",
    "# Parametros para capas MLP y contextos\n",
    "global_mlp_layers = 300\n",
    "ca_size = hidden_size\n",
    "ct_size = hidden_size // 2\n",
    "local_mlp_layers = 300\n",
    "\n",
    "# Parametros de embedding para identificacion de series\n",
    "num_embeddings = len(series_objetivo)\n",
    "embedding_dim = 10*num_embeddings\n",
    "\n",
    "# Parametro auxiliar para entrenamiento (ayuda a capturar estructura en periodos mas cortos durante el entrenamiento)\n",
    "min_hist_len = 2\n",
    "\n",
    "# Variable de cuantiles\n",
    "quantiles = [0.05, 0.5, 0.95]\n",
    "\n",
    "# Parámetros de optimización\n",
    "learning_rate = 1e-3\n",
    "\n",
    "\n",
    "# Fijamos una semilla para repoducir resultados\n",
    "set_seed()"
   ]
  },
  {
   "cell_type": "code",
   "execution_count": 11,
   "metadata": {},
   "outputs": [],
   "source": [
    "\n",
    "# Dataset de entrenamiento\n",
    "train_dataset = MultivariateTimeSeriesDataset(\n",
    "    df = df_train,\n",
    "    target_cols = series_objetivo,\n",
    "    exog_cols = series_exogenas,\n",
    "    hist_len = hist_len,\n",
    "    horizon = horizon,\n",
    "    shock_dict = shock_dict,\n",
    "    lag = lag\n",
    ")\n",
    "\n",
    "# DataLoader en entrenamiento\n",
    "train_dataloader = DataLoader(train_dataset, batch_size=batch_size, shuffle=True)\n",
    "\n",
    "# Dataset de validación\n",
    "val_dataset = MultivariateTimeSeriesDataset(\n",
    "    df = df_val,\n",
    "    target_cols = series_objetivo,\n",
    "    exog_cols = series_exogenas,\n",
    "    hist_len = hist_len,\n",
    "    horizon = horizon,\n",
    "    shock_dict = shock_dict,\n",
    "    mean = train_dataset.mean,\n",
    "    std = train_dataset.std,\n",
    "    lag = train_dataset.lag\n",
    ")\n",
    "\n",
    "# DataLoader en validación\n",
    "val_dataloader = DataLoader(val_dataset, batch_size=batch_size, shuffle=False)\n"
   ]
  },
  {
   "cell_type": "code",
   "execution_count": 12,
   "metadata": {},
   "outputs": [
    {
     "name": "stdout",
     "output_type": "stream",
     "text": [
      "\n",
      "Shapes of the training batch:\n",
      "x_hist: torch.Size([10, 16, 6])\n",
      "x_fut: torch.Size([10, 8, 6])\n",
      "y_hist: torch.Size([10, 16, 1])\n",
      "y_fut: torch.Size([10, 8, 1])\n",
      "series_idx: tensor([0, 0, 0, 0, 0, 0, 0, 0, 0, 0])\n"
     ]
    }
   ],
   "source": [
    "# Verificacion del shape de val_dataloader\n",
    "for x_hist, x_fut, y_hist, y_fut, series_idx in iter(train_dataloader):\n",
    "    print('\\nShapes of the training batch:')\n",
    "    print(f'x_hist: {x_hist.shape}')\n",
    "    print(f'x_fut: {x_fut.shape}')\n",
    "    print(f'y_hist: {y_hist.shape}')\n",
    "    print(f'y_fut: {y_fut.shape}')\n",
    "    print(f'series_idx: {series_idx}')\n",
    "    break\n",
    "    "
   ]
  },
  {
   "cell_type": "markdown",
   "metadata": {},
   "source": [
    "# Entrenamiento"
   ]
  },
  {
   "cell_type": "code",
   "execution_count": 13,
   "metadata": {},
   "outputs": [],
   "source": [
    "# Modelo\n",
    "model = Seq2seq_MultiHorizon_Quantile_Recurrent_Forecaster(\n",
    "    hist_len = hist_len,\n",
    "    horizon = horizon,\n",
    "    input_size = input_size,\n",
    "    output_size = output_size,\n",
    "    hidden_size = hidden_size,\n",
    "    num_layers = num_layers,\n",
    "    global_mlp_layers = global_mlp_layers,\n",
    "    ct_size = ct_size,\n",
    "    ca_size = ca_size,\n",
    "    local_mlp_layers = local_mlp_layers,\n",
    "    num_embeddings = num_embeddings,\n",
    "    embedding_dim = embedding_dim,\n",
    "    min_hist_len = min_hist_len,\n",
    "    quantiles = quantiles,\n",
    "    learning_rate = learning_rate,)\n",
    "\n",
    "model.target_cols = series_objetivo\n",
    "model.exog_cols = series_exogenas\n",
    "model.mean = train_dataset.mean\n",
    "model.std = train_dataset.std\n",
    "model.shock_dict = train_dataset.shock_dict\n",
    "model.series_id_map = train_dataset.series_id_map\n",
    "model.lag = train_dataset.lag\n"
   ]
  },
  {
   "cell_type": "code",
   "execution_count": 14,
   "metadata": {},
   "outputs": [
    {
     "name": "stdout",
     "output_type": "stream",
     "text": [
      "Shape de y_hat: torch.Size([10, 8, 1, 3])\n",
      "Hay NaN en y_hat: False\n"
     ]
    }
   ],
   "source": [
    "# Verificacion de que el modelo funciona\n",
    "batch = next(iter(train_dataloader))\n",
    "\n",
    "x_hist, x_fut, y_hist, y_fut, series_idx = batch\n",
    "y_hat, _, _ = model.forward(x_hist, x_fut, y_hist, series_idx)\n",
    "\n",
    "# Vemos si hay nan\n",
    "print(\"Shape de y_hat:\", y_hat.shape)\n",
    "print(\"Hay NaN en y_hat:\", torch.isnan(y_hat).any().item())"
   ]
  },
  {
   "cell_type": "code",
   "execution_count": 15,
   "metadata": {},
   "outputs": [
    {
     "name": "stderr",
     "output_type": "stream",
     "text": [
      "Using default `ModelCheckpoint`. Consider installing `litmodels` package to enable `LitModelCheckpoint` for automatic upload to the Lightning model registry.\n",
      "GPU available: False, used: False\n",
      "TPU available: False, using: 0 TPU cores\n",
      "HPU available: False, using: 0 HPUs\n",
      "\n",
      "  | Name             | Type       | Params | Mode \n",
      "--------------------------------------------------------\n",
      "0 | series_embedding | Embedding  | 10     | train\n",
      "1 | encoder          | LSTM       | 207 K  | train\n",
      "2 | global_mlp       | Sequential | 269 K  | train\n",
      "3 | local_mlp        | Sequential | 63.6 K | train\n",
      "--------------------------------------------------------\n",
      "540 K     Trainable params\n",
      "0         Non-trainable params\n",
      "540 K     Total params\n",
      "2.163     Total estimated model params size (MB)\n",
      "10        Modules in train mode\n",
      "0         Modules in eval mode\n"
     ]
    },
    {
     "name": "stdout",
     "output_type": "stream",
     "text": [
      "Epoch 49: 100%|██████████| 7/7 [00:01<00:00,  6.20it/s, v_num=0, train_loss_step=0.00779, val_QL=0.0248, train_loss_epoch=0.00681]"
     ]
    },
    {
     "name": "stderr",
     "output_type": "stream",
     "text": [
      "`Trainer.fit` stopped: `max_epochs=50` reached.\n"
     ]
    },
    {
     "name": "stdout",
     "output_type": "stream",
     "text": [
      "Epoch 49: 100%|██████████| 7/7 [00:01<00:00,  6.04it/s, v_num=0, train_loss_step=0.00779, val_QL=0.0248, train_loss_epoch=0.00681]\n"
     ]
    }
   ],
   "source": [
    "# Entrenamiento\n",
    "epochs = 50\n",
    "\n",
    "trainer = pl.Trainer(max_epochs=epochs)\n",
    "trainer.fit(model, train_dataloader, val_dataloader)"
   ]
  },
  {
   "cell_type": "markdown",
   "metadata": {},
   "source": [
    "# Validacion"
   ]
  },
  {
   "cell_type": "code",
   "execution_count": null,
   "metadata": {},
   "outputs": [],
   "source": [
    "# Predicciones\n",
    "initial_pred_date = pd.to_datetime(\"2023-06-01\")\n",
    "#initial_pred_date = validation_date + relativedelta(months=1)  # Ajustamos la fecha de inicio de predicción\n",
    "end_year_pred = datetime(initial_pred_date.year, 12, 1)\n",
    "end_year_1_pred = datetime(initial_pred_date.year + 1, 12, 1)\n",
    "\n",
    "target_col = series_objetivo[0]\n",
    "\n",
    "predicciones = model.predict(\n",
    "    df = df,\n",
    "    target_col = target_col,\n",
    "    initial_pred_date = initial_pred_date\n",
    ")\n",
    "\n",
    "# Reindexamos la serie y rellenamos con interpolacion para tener todo el horizonte de pronostico en caso de no tenerlo\n",
    "rango_mensual = pd.date_range(start=predicciones.index.min(), end= predicciones.index.max(), freq='MS')\n",
    "predicciones = predicciones.reindex(rango_mensual)\n",
    "\n",
    "# Se aplica interpolación lineal para rellenar los meses\n",
    "predicciones = predicciones.interpolate(method='linear')\n",
    "\n",
    "# Concatenar los dataframes\n",
    "df_combined = pd.concat([df[series_input], predicciones], axis=1)\n",
    "\n",
    "# Acotar el DataFrame a las fechas de interés\n",
    "df_combined = df_combined.loc[initial_pred_date + relativedelta(months=-12):(initial_pred_date + relativedelta(months=12*2))]"
   ]
  },
  {
   "cell_type": "code",
   "execution_count": null,
   "metadata": {},
   "outputs": [
    {
     "data": {
      "image/png": "[encoded data removed]",
      "text/plain": [
       "<Figure size 1500x600 with 1 Axes>"
      ]
     },
     "metadata": {},
     "output_type": "display_data"
    }
   ],
   "source": [
    "# Iterar sobre cada variable objetivo para crear una gráfica\n",
    "fig, ax1 = plt.subplots(figsize=(15, 6))\n",
    "\n",
    "# Graficar la serie real\n",
    "plt.plot(df_combined.index, df_combined[target_col], label='Real', marker='o', linestyle='-', color='blue')\n",
    "#plt.plot(df_combined.index, df_combined['PIB_pron_var'], label='PIB', linestyle='-', color='gray')\n",
    "\n",
    "if end_year_pred in df_combined.index:\n",
    "    valor = df_combined.at[end_year_pred, target_col]\n",
    "    ax1.annotate(f'{valor:.2f}', xy=(end_year_pred, valor), xytext=(0, 10),\n",
    "                    textcoords='offset points', ha='center', fontsize=9,\n",
    "                    bbox=dict(boxstyle='round,pad=0.2', fc='green', alpha=0.3))\n",
    "    \n",
    "if end_year_1_pred in df_combined.index:\n",
    "    valor = df_combined.at[end_year_1_pred, target_col]\n",
    "    ax1.annotate(f'{valor:.2f}', xy=(end_year_1_pred, valor), xytext=(0, 10),\n",
    "                    textcoords='offset points', ha='center', fontsize=9,\n",
    "                    bbox=dict(boxstyle='round,pad=0.2', fc='green', alpha=0.3))\n",
    "\n",
    "\n",
    "for quantile, color in zip(quantiles[::-1], ['orange', 'green', 'red']):\n",
    "    col_name = f'{target_col}_{int(quantile*100)}'\n",
    "    if col_name in df_combined.columns:\n",
    "        plt.plot(df_combined.index, df_combined[col_name], label=f'Cuantil {quantile}', marker='s', linestyle='--', color=color)\n",
    "        \n",
    "        if col_name == f'{target_col}_50':\n",
    "            if end_year_pred in df_combined.index:\n",
    "                valor = df_combined.at[end_year_pred, col_name]\n",
    "                ax1.annotate(f'{valor:.2f}', xy=(end_year_pred, valor), xytext=(0, 10),\n",
    "                            textcoords='offset points', ha='center', fontsize=9,\n",
    "                            bbox=dict(boxstyle='round,pad=0.2', fc='yellow', alpha=0.3))\n",
    "                \n",
    "            if end_year_1_pred in df_combined.index:\n",
    "                valor = df_combined.at[end_year_1_pred, col_name]\n",
    "                ax1.annotate(f'{valor:.2f}', xy=(end_year_1_pred, valor), xytext=(0, 10),\n",
    "                            textcoords='offset points', ha='center', fontsize=9,\n",
    "                            bbox=dict(boxstyle='round,pad=0.2', fc='yellow', alpha=0.3))\n",
    "\n",
    "plt.xlabel('Fecha')\n",
    "\n",
    "plt.title(f'Predicción Cuantil vs Real para {target_col}')\n",
    "plt.legend()\n",
    "plt.show()\n",
    "\n"
   ]
  },
  {
   "cell_type": "markdown",
   "metadata": {},
   "source": [
    "# Guardar Modelo"
   ]
  },
  {
   "cell_type": "code",
   "execution_count": null,
   "metadata": {},
   "outputs": [],
   "source": [
    "# Guardar el modelo y sus atributos\n",
    "guardar = False\n",
    "if guardar:\n",
    "    model_path = \"modelos/IGAE_trim_seq2seq.pth\"\n",
    "    model.save_model(model_path)"
   ]
  }
 ],
 "metadata": {
  "kernelspec": {
   "display_name": ".venv (3.12.2)",
   "language": "python",
   "name": "python3"
  },
  "language_info": {
   "codemirror_mode": {
    "name": "ipython",
    "version": 3
   },
   "file_extension": ".py",
   "mimetype": "text/x-python",
   "name": "python",
   "nbconvert_exporter": "python",
   "pygments_lexer": "ipython3",
   "version": "3.12.2"
  }
 },
 "nbformat": 4,
 "nbformat_minor": 2
}
